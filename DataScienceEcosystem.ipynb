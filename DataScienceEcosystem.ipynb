{
 "cells": [
  {
   "cell_type": "markdown",
   "id": "ba3e23dd-cbe9-46b7-8689-705bb4c869d7",
   "metadata": {},
   "source": [
    "# Data Science Tools and Ecosystem"
   ]
  },
  {
   "cell_type": "markdown",
   "id": "193b218f-322a-47fb-94f6-48070571a7dd",
   "metadata": {},
   "source": [
    "In this notebook, Data Science Tools and Ecosystem are summarized."
   ]
  },
  {
   "cell_type": "markdown",
   "id": "b8474a45-f5a2-4d9e-8b03-e7ee7395ad71",
   "metadata": {},
   "source": [
    "Some of the popular languages that Data Scientists use are:\n",
    "1. Python\n",
    "2. JavaScript\n",
    "3. C++\n",
    "4. R"
   ]
  },
  {
   "cell_type": "markdown",
   "id": "50c60be2-4e3e-4e2f-9e2e-bfc7e81d3368",
   "metadata": {},
   "source": [
    "Some of the commonly used libraries used by Data Scientists include:\n",
    "1. pandas\n",
    "2. NumPy\n",
    "3. Scipy\n",
    "4. Matpplotlib"
   ]
  },
  {
   "cell_type": "markdown",
   "id": "5b43147e-0a79-4bb1-ab35-118bb14775ad",
   "metadata": {},
   "source": [
    "|Data Science Tools|\n",
    "|-------|\n",
    "|JupyterLab|\n",
    "|Jupyter Notebook|\n",
    "|VS Code|\n",
    "|R Studio|\n"
   ]
  },
  {
   "cell_type": "markdown",
   "id": "0ad6051e-8945-4244-b321-72dcb5d05174",
   "metadata": {},
   "source": []
  },
  {
   "cell_type": "markdown",
   "id": "5c15b032-c74d-45c6-a22c-352b77912ae9",
   "metadata": {},
   "source": [
    "### Below are a few examples of evaluating arithmetic expressions in Python"
   ]
  },
  {
   "cell_type": "code",
   "execution_count": 18,
   "id": "dda8f769-9070-42c5-8ef9-79e218d25725",
   "metadata": {},
   "outputs": [
    {
     "data": {
      "text/plain": [
       "17"
      ]
     },
     "execution_count": 18,
     "metadata": {},
     "output_type": "execute_result"
    }
   ],
   "source": [
    "# This a simple arithmetic expression to mutiply then add integers\n",
    "(3*4)+5"
   ]
  },
  {
   "cell_type": "code",
   "execution_count": 20,
   "id": "4a971dfe-5b9c-4f12-9796-6c44daae9c72",
   "metadata": {},
   "outputs": [
    {
     "data": {
      "text/plain": [
       "3.3333333333333335"
      ]
     },
     "execution_count": 20,
     "metadata": {},
     "output_type": "execute_result"
    }
   ],
   "source": [
    "# This will convert 200 minutes to hours by diving by 60\n",
    "200/60"
   ]
  },
  {
   "cell_type": "markdown",
   "id": "75d6b45e-a970-41fa-ae8a-c07fdadf9a37",
   "metadata": {},
   "source": [
    "**Objectives:**\n",
    "* Create markdown cells\n",
    "* List popular languages used by data scientists\n",
    "* List libraries commonly used by data scientists\n",
    "* List Data Science tools\n",
    "* Introduce examples of arithmetic expressions\n",
    "* Create a code cell to convert minutes to hours"
   ]
  },
  {
   "cell_type": "markdown",
   "id": "3dd212d3-a0f5-4fcf-885c-f2c06cabd3e8",
   "metadata": {},
   "source": [
    "## Author\n",
    "Julio A Zyserman"
   ]
  },
  {
   "cell_type": "code",
   "execution_count": null,
   "id": "bf61eabb-994f-4034-9395-b88d324e2061",
   "metadata": {},
   "outputs": [],
   "source": []
  }
 ],
 "metadata": {
  "kernelspec": {
   "display_name": "Python 3 (ipykernel)",
   "language": "python",
   "name": "python3"
  },
  "language_info": {
   "codemirror_mode": {
    "name": "ipython",
    "version": 3
   },
   "file_extension": ".py",
   "mimetype": "text/x-python",
   "name": "python",
   "nbconvert_exporter": "python",
   "pygments_lexer": "ipython3",
   "version": "3.12.7"
  }
 },
 "nbformat": 4,
 "nbformat_minor": 5
}
